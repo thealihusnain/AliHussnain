{
  "nbformat": 4,
  "nbformat_minor": 0,
  "metadata": {
    "colab": {
      "provenance": [],
      "authorship_tag": "ABX9TyOchB8SDJuctVvl1i4QEgQN",
      "include_colab_link": true
    },
    "kernelspec": {
      "name": "python3",
      "display_name": "Python 3"
    },
    "language_info": {
      "name": "python"
    }
  },
  "cells": [
    {
      "cell_type": "markdown",
      "metadata": {
        "id": "view-in-github",
        "colab_type": "text"
      },
      "source": [
        "<a href=\"https://colab.research.google.com/github/thealihusnain/AliHussnain/blob/main/Copy_of_Untitled0.ipynb\" target=\"_parent\"><img src=\"https://colab.research.google.com/assets/colab-badge.svg\" alt=\"Open In Colab\"/></a>"
      ]
    },
    {
      "cell_type": "code",
      "execution_count": null,
      "metadata": {
        "id": "-X-1fwCGCyFj"
      },
      "outputs": [],
      "source": [
        "# Create a dictionary representing a book with keys \"title,\" \"author,\" and \"year.\"\n",
        "book ={\n",
        "    \"title\":['Math'],\n",
        "    \"author\":[\"aljda\"],\n",
        "    \"year\":[2032]\n",
        "}\n",
        "# Access the \"author\" of the book dictionary you created.\n",
        "\n",
        "# - Modify the book dictionary to change the \"year\" to 2022\n",
        "book['year'] = 2022"
      ]
    },
    {
      "cell_type": "code",
      "source": [
        "fruits ={\n",
        "    123:['apple'],\n",
        "    124:['orange'],\n",
        "    125:['grapes']\n",
        "}"
      ],
      "metadata": {
        "id": "vsxxI_BhD1to"
      },
      "execution_count": null,
      "outputs": []
    },
    {
      "cell_type": "code",
      "source": [
        "fruits.pop(124)"
      ],
      "metadata": {
        "colab": {
          "base_uri": "https://localhost:8080/"
        },
        "id": "Fi374FCzEdua",
        "outputId": "83f87ee5-7b13-4b22-bc43-04d9c36040a1"
      },
      "execution_count": null,
      "outputs": [
        {
          "output_type": "execute_result",
          "data": {
            "text/plain": [
              "['orange']"
            ]
          },
          "metadata": {},
          "execution_count": 9
        }
      ]
    },
    {
      "cell_type": "code",
      "source": [
        "# Create a dictionary representing a person with keys \"name,\" \"age,\" and \"city.\" Use the get() method to retrieve the person's age, providing a default value of 30 if the \"age\" key doesn't exist.\n",
        "person ={\n",
        "    \"Name\": \"Ali Husnain\",\n",
        "    \"Age\": \"22\",\n",
        "    \"city\": \"Sheikhupura\"\n",
        "}\n",
        "person.get('Age',30)"
      ],
      "metadata": {
        "colab": {
          "base_uri": "https://localhost:8080/",
          "height": 36
        },
        "id": "aPpj7BBDEqFN",
        "outputId": "6ae9017f-1941-44db-df2d-2046fcd29da3"
      },
      "execution_count": null,
      "outputs": [
        {
          "output_type": "execute_result",
          "data": {
            "text/plain": [
              "'22'"
            ],
            "application/vnd.google.colaboratory.intrinsic+json": {
              "type": "string"
            }
          },
          "metadata": {},
          "execution_count": 12
        }
      ]
    },
    {
      "cell_type": "code",
      "source": [
        "my_list = [10, 20, 30, 40, 50, 60, 70, 80, 90]"
      ],
      "metadata": {
        "id": "HCWbUAXREx5k"
      },
      "execution_count": 1,
      "outputs": []
    },
    {
      "cell_type": "code",
      "source": [
        "my_list[-3]\n"
      ],
      "metadata": {
        "colab": {
          "base_uri": "https://localhost:8080/"
        },
        "id": "IjftBYsjF6nm",
        "outputId": "ae700e6a-8436-4697-bc09-1f86136ba51e"
      },
      "execution_count": 6,
      "outputs": [
        {
          "output_type": "execute_result",
          "data": {
            "text/plain": [
              "70"
            ]
          },
          "metadata": {},
          "execution_count": 6
        }
      ]
    },
    {
      "cell_type": "code",
      "source": [
        "my_list[-2]"
      ],
      "metadata": {
        "colab": {
          "base_uri": "https://localhost:8080/"
        },
        "id": "kXk1G0t1Gbcf",
        "outputId": "f64b2cfc-a6f6-449d-9071-fcce327180cd"
      },
      "execution_count": 7,
      "outputs": [
        {
          "output_type": "execute_result",
          "data": {
            "text/plain": [
              "80"
            ]
          },
          "metadata": {},
          "execution_count": 7
        }
      ]
    },
    {
      "cell_type": "code",
      "source": [
        "my_list[3:]"
      ],
      "metadata": {
        "colab": {
          "base_uri": "https://localhost:8080/"
        },
        "id": "CQVz_PxBGdB9",
        "outputId": "2bf03cf0-7237-4a71-c118-ad08d6d64cce"
      },
      "execution_count": 9,
      "outputs": [
        {
          "output_type": "execute_result",
          "data": {
            "text/plain": [
              "[40, 50, 60, 70, 80, 90]"
            ]
          },
          "metadata": {},
          "execution_count": 9
        }
      ]
    },
    {
      "cell_type": "code",
      "source": [
        "my_list[:5]"
      ],
      "metadata": {
        "colab": {
          "base_uri": "https://localhost:8080/"
        },
        "id": "L9Wx8IC9GsBk",
        "outputId": "743b011f-0dc0-4ca8-e7a3-799a471b6284"
      },
      "execution_count": 10,
      "outputs": [
        {
          "output_type": "execute_result",
          "data": {
            "text/plain": [
              "[10, 20, 30, 40, 50]"
            ]
          },
          "metadata": {},
          "execution_count": 10
        }
      ]
    },
    {
      "cell_type": "code",
      "source": [
        "my_list[: :2]"
      ],
      "metadata": {
        "colab": {
          "base_uri": "https://localhost:8080/"
        },
        "id": "8R9wP5rHGwvj",
        "outputId": "4f2e2688-b80d-48f2-e138-73662e1375fa"
      },
      "execution_count": 13,
      "outputs": [
        {
          "output_type": "execute_result",
          "data": {
            "text/plain": [
              "[10, 30, 50, 70, 90]"
            ]
          },
          "metadata": {},
          "execution_count": 13
        }
      ]
    },
    {
      "cell_type": "code",
      "source": [
        "my_list[: -6:-1]"
      ],
      "metadata": {
        "colab": {
          "base_uri": "https://localhost:8080/"
        },
        "id": "-iefLDgAG_cq",
        "outputId": "802595cd-76bf-49d4-acea-7603efe2c703"
      },
      "execution_count": 15,
      "outputs": [
        {
          "output_type": "execute_result",
          "data": {
            "text/plain": [
              "[90, 80, 70, 60, 50]"
            ]
          },
          "metadata": {},
          "execution_count": 15
        }
      ]
    }
  ]
}